{
 "cells": [
  {
   "cell_type": "code",
   "execution_count": 27,
   "metadata": {},
   "outputs": [],
   "source": [
    "import requests\n",
    "import urllib.parse\n",
    "from SPARQLWrapper import SPARQLWrapper, JSON"
   ]
  },
  {
   "cell_type": "code",
   "execution_count": 2,
   "metadata": {},
   "outputs": [],
   "source": [
    "api_key=\"8265bd1679663a7ea12ac168da84d2e8\""
   ]
  },
  {
   "cell_type": "code",
   "execution_count": 3,
   "metadata": {},
   "outputs": [],
   "source": [
    "def get_movie_id(movie_name):\n",
    "    url = \"https://api.themoviedb.org/3/search/movie?api_key=\" + api_key + \"&query=\" + urllib.parse.quote(movie_name)\n",
    "    response = requests.get(url)\n",
    "    if response.status_code == 200:\n",
    "        data = response.json()\n",
    "        movies = [m for m in data[\"results\"] if m[\"title\"].lower() == movie_name.lower()]\n",
    "        movies.sort(key=lambda x: x[\"popularity\"], reverse=True)\n",
    "        return movies[0][\"id\"]\n",
    "    else:\n",
    "        return None"
   ]
  },
  {
   "cell_type": "code",
   "execution_count": 4,
   "metadata": {},
   "outputs": [],
   "source": [
    "def get_movie_data(movie_name=None, movie_id=None):\n",
    "    if movie_id:  # Fetch by movie ID\n",
    "        movie_url = f\"https://api.themoviedb.org/3/movie/{movie_id}?api_key={api_key}\"\n",
    "    elif movie_name:  # Fetch by movie name\n",
    "        search_url = f\"https://api.themoviedb.org/3/search/movie?api_key={api_key}&query={urllib.parse.quote(movie_name)}\"\n",
    "        search_response = requests.get(search_url)\n",
    "        if search_response.status_code == 200:\n",
    "            movies = [m for m in search_response.json()['results'] if m['title'].lower() == movie_name.lower()]\n",
    "            if not movies:\n",
    "                return None\n",
    "            movies.sort(key=lambda x: x['popularity'], reverse=True)\n",
    "            movie_url = f\"https://api.themoviedb.org/3/movie/{movies[0]['id']}?api_key={api_key}\"\n",
    "        else:\n",
    "            return None\n",
    "    else:\n",
    "        return None  # If neither movie_name nor movie_id is provided\n",
    "\n",
    "    response = requests.get(movie_url)\n",
    "    return response.json() if response.status_code == 200 else None\n"
   ]
  },
  {
   "cell_type": "code",
   "execution_count": 5,
   "metadata": {},
   "outputs": [],
   "source": [
    "def get_movie_genre(movie_id, genre_id = False, session=None):\n",
    "    url = \"https://api.themoviedb.org/3/movie/\" + str(movie_id) + \"?api_key=\" + api_key\n",
    "    req = session if session else requests\n",
    "    response = req.get(url)\n",
    "    if response.status_code == 200:\n",
    "        data = response.json()[\"genres\"]\n",
    "        if genre_id:\n",
    "            gerere_id_list = [genre[\"id\"] for genre in data]\n",
    "            return gerere_id_list\n",
    "        else:\n",
    "            gerere_name_list = [genre[\"name\"] for genre in data]\n",
    "            return gerere_name_list\n",
    "    else:\n",
    "        return None"
   ]
  },
  {
   "cell_type": "code",
   "execution_count": 6,
   "metadata": {},
   "outputs": [],
   "source": [
    "def genre_id_to_name(genre_id):\n",
    "    url = \"https://api.themoviedb.org/3/genre/movie/list?api_key=\" + api_key\n",
    "    response = requests.get(url)\n",
    "    if response.status_code == 200:\n",
    "        data = response.json()[\"genres\"]\n",
    "        gerere_name_list = [genre[\"name\"] for genre in data if genre[\"id\"] in genre_id]\n",
    "        return gerere_name_list\n",
    "    else:\n",
    "        return None"
   ]
  },
  {
   "cell_type": "code",
   "execution_count": 7,
   "metadata": {},
   "outputs": [],
   "source": [
    "def get_movie_keywords(movie_id):\n",
    "    url = \"https://api.themoviedb.org/3/movie/\" + str(movie_id) + \"/keywords?api_key=\" + api_key\n",
    "    response = requests.get(url)\n",
    "    if response.status_code == 200:\n",
    "        data = response.json()[\"keywords\"]\n",
    "        keywords = [keyword[\"name\"] for keyword in data]\n",
    "        return keywords\n",
    "    else:\n",
    "        return None"
   ]
  },
  {
   "cell_type": "code",
   "execution_count": 8,
   "metadata": {},
   "outputs": [],
   "source": [
    "def get_movie_credits(movie_id, session=None):\n",
    "    url = f\"https://api.themoviedb.org/3/movie/{movie_id}/credits?api_key={api_key}\"\n",
    "    req = session if session else requests\n",
    "    response = req.get(url)\n",
    "    \n",
    "    if response.status_code == 200:\n",
    "        data = response.json()\n",
    "        directors = [crew['id'] for crew in data['crew'] if crew['job'] == 'Director'][:3]\n",
    "        writers = [crew['id'] for crew in data['crew'] if crew['job'] in ['Writer', 'Screenplay']][:3]\n",
    "        actors = [actor['id'] for actor in data['cast'][:5]]\n",
    "\n",
    "        return {\n",
    "            \"Directors\": directors,\n",
    "            \"Writers\": writers,\n",
    "            \"Actors\": actors\n",
    "        }\n",
    "    \n",
    "    return None"
   ]
  },
  {
   "cell_type": "code",
   "execution_count": 9,
   "metadata": {},
   "outputs": [],
   "source": [
    "def id_to_name(person_id):\n",
    "    url = f\"https://api.themoviedb.org/3/person/{person_id}?api_key={api_key}\"\n",
    "    response = requests.get(url)\n",
    "    \n",
    "    if response.status_code == 200:\n",
    "        data = response.json()\n",
    "        return data['name']\n",
    "    \n",
    "    return None"
   ]
  },
  {
   "cell_type": "code",
   "execution_count": 10,
   "metadata": {},
   "outputs": [],
   "source": [
    "def find_related_movies(movie_id, session=None):\n",
    "    req = session if session else requests\n",
    "    movie_url = f\"https://api.themoviedb.org/3/movie/{movie_id}?api_key={api_key}\"\n",
    "    recommendations_url = f\"https://api.themoviedb.org/3/movie/{movie_id}/recommendations?api_key={api_key}&sort_by=popularity.desc\"\n",
    "    movie_response = req.get(movie_url)\n",
    "    recommendations_response = req.get(recommendations_url)\n",
    "\n",
    "    if movie_response.status_code == 200:\n",
    "        movie_data = movie_response.json()\n",
    "        collection = movie_data.get('belongs_to_collection')\n",
    "\n",
    "        if collection:  # If movie belongs to a collection\n",
    "            collection_id = collection['id']\n",
    "            collection_url = f\"https://api.themoviedb.org/3/collection/{collection_id}?api_key={api_key}\"\n",
    "            collection_response = requests.get(collection_url)\n",
    "            if collection_response.status_code == 200:\n",
    "                collection_movies = [m for m in collection_response.json().get('parts', [])]\n",
    "                collection_movies = sorted(collection_movies, key=lambda x: x['popularity'], reverse=True)\n",
    "                collection_movies = [cm['id'] for cm in collection_movies if cm['id'] != movie_id][:5]\n",
    "            else:\n",
    "                collection_movies = []\n",
    "        else:\n",
    "            collection_movies = []\n",
    "\n",
    "    if recommendations_response.status_code == 200:\n",
    "        recommendations = [m['id'] for m in recommendations_response.json().get('results', [])][:5]\n",
    "    else:\n",
    "        recommendations = []\n",
    "    \n",
    "    related_movies = list(set(collection_movies + recommendations))\n",
    "    return related_movies"
   ]
  },
  {
   "cell_type": "code",
   "execution_count": 11,
   "metadata": {},
   "outputs": [],
   "source": [
    "def search_movies(actor_id=None, director_id=None, writer_id=None, genre_id=None, limit=15):\n",
    "    url = \"https://api.themoviedb.org/3/discover/movie?api_key=\" + api_key\n",
    "    params = {}\n",
    "    \n",
    "    if actor_id:\n",
    "        params['with_cast'] = actor_id\n",
    "    if director_id or writer_id:\n",
    "        params['with_crew'] = ','.join(filter(None, [str(director_id), str(writer_id)]))\n",
    "    if genre_id:\n",
    "        params['with_genres'] = genre_id\n",
    "    params['sort_by'] = 'popularity.desc'\n",
    "    \n",
    "    response = requests.get(url, params=params)\n",
    "\n",
    "    if response.status_code == 200:\n",
    "        return [movie['id'] for movie in response.json().get(\"results\", [])[:limit]]\n",
    "    return None\n",
    "    \n",
    "    "
   ]
  },
  {
   "cell_type": "code",
   "execution_count": 12,
   "metadata": {},
   "outputs": [],
   "source": [
    "# def find_similar_movies(movie_ids):\n",
    "#     similar_movies = set()\n",
    "#     genres = set()\n",
    "#     directors = set()\n",
    "#     writers = set()\n",
    "#     actors = set()\n",
    "#     for movie_id in movie_ids:\n",
    "#         genres.update(get_movie_genre(movie_id, genre_id=True))\n",
    "#         movies = find_related_movies(movie_id)\n",
    "#         similar_movies.update(movies)\n",
    "#         credits = get_movie_credits(movie_id)\n",
    "#         if credits:\n",
    "#             directors.update(credits[\"Directors\"])\n",
    "#             writers.update(credits[\"Writers\"])\n",
    "#             actors.update(credits[\"Actors\"])\n",
    "#     for genre in genres:\n",
    "#         similar_movies.update(search_movies(genre_id=genre)[:10])\n",
    "#     for director in directors:\n",
    "#         similar_movies.update(search_movies(director_id=director)[:5])\n",
    "#     for writer in writers:\n",
    "#         similar_movies.update(search_movies(writer_id=writer)[:5])\n",
    "#     for actor in actors:\n",
    "#         similar_movies.update(search_movies(actor_id=actor)[:5])\n",
    "    \n",
    "#     for movie_id in similar_movies.copy():\n",
    "#         if movie_id in movie_ids:\n",
    "#             similar_movies.remove(movie_id)\n",
    "#     return list(similar_movies)\n",
    "            \n",
    "    \n"
   ]
  },
  {
   "cell_type": "code",
   "execution_count": 13,
   "metadata": {},
   "outputs": [],
   "source": [
    "import concurrent.futures\n",
    "import functools\n",
    "import requests\n",
    "import urllib.parse\n",
    "from typing import List, Dict, Optional, Any\n",
    "import time\n",
    "\n",
    "# Add caching decorator\n",
    "def cache_result(ttl_seconds=3600):\n",
    "    cache = {}\n",
    "    def decorator(func):\n",
    "        @functools.wraps(func)\n",
    "        def wrapper(*args, **kwargs):\n",
    "            key = str(args) + str(kwargs)\n",
    "            current_time = time.time()\n",
    "            if key in cache and current_time - cache[key]['timestamp'] < ttl_seconds:\n",
    "                return cache[key]['result']\n",
    "            result = func(*args, **kwargs)\n",
    "            cache[key] = {'result': result, 'timestamp': current_time}\n",
    "            return result\n",
    "        return wrapper\n",
    "    return decorator\n",
    "\n",
    "# Example of parallelized find_similar_movies\n",
    "def find_similar_movies(movie_ids: List[int]) -> List[int]:\n",
    "    similar_movies = set()\n",
    "    \n",
    "    # Create a session for connection pooling\n",
    "    session = requests.Session()\n",
    "    \n",
    "    # Function to get all data for a single movie\n",
    "    @cache_result(ttl_seconds=86400)  # Cache for 24 hours\n",
    "    def get_movie_all_data(movie_id: int) -> Dict:\n",
    "        results = {}\n",
    "        results['genres'] = get_movie_genre(movie_id, genre_id=True, session=session)\n",
    "        results['related'] = find_related_movies(movie_id, session=session)\n",
    "        results['credits'] = get_movie_credits(movie_id, session=session)\n",
    "        return results\n",
    "    \n",
    "    # Parallel fetch data for all movies\n",
    "    with concurrent.futures.ThreadPoolExecutor(max_workers=10) as executor:\n",
    "        all_data = list(executor.map(get_movie_all_data, movie_ids))\n",
    "    \n",
    "    # Process the collected data\n",
    "    genres = set()\n",
    "    directors = set()\n",
    "    writers = set()\n",
    "    actors = set()\n",
    "    \n",
    "    for data in all_data:\n",
    "        genres.update(data['genres'] or [])\n",
    "        similar_movies.update(data['related'] or [])\n",
    "        if data['credits']:\n",
    "            directors.update(data['credits'].get(\"Directors\", []))\n",
    "            writers.update(data['credits'].get(\"Writers\", []))\n",
    "            actors.update(data['credits'].get(\"Actors\", []))\n",
    "    \n",
    "    # Parallel search for similar movies by different criteria\n",
    "    search_tasks = []\n",
    "    with concurrent.futures.ThreadPoolExecutor(max_workers=10) as executor:\n",
    "        for genre in genres:\n",
    "            search_tasks.append(executor.submit(search_movies, genre_id=genre, limit=20))\n",
    "        for director in directors:\n",
    "            search_tasks.append(executor.submit(search_movies, director_id=director, limit=6))\n",
    "        for writer in writers:\n",
    "            search_tasks.append(executor.submit(search_movies, writer_id=writer, limit=6))\n",
    "        for actor in actors:\n",
    "            search_tasks.append(executor.submit(search_movies, actor_id=actor, limit=5))\n",
    "    \n",
    "    # Collect results\n",
    "    for task in concurrent.futures.as_completed(search_tasks):\n",
    "        result = task.result()\n",
    "        if result:\n",
    "            similar_movies.update(result)\n",
    "    \n",
    "    # Remove original movies\n",
    "    similar_movies = similar_movies - set(movie_ids)\n",
    "    \n",
    "    return list(similar_movies)\n"
   ]
  },
  {
   "cell_type": "code",
   "execution_count": 28,
   "metadata": {},
   "outputs": [],
   "source": [
    "def get_combined_keywords(movie_id: int, api_key: str=api_key) -> list:\n",
    "    \"\"\"Returns combined keywords from TMDB and Wikidata with optimizations\"\"\"\n",
    "    # Fetch TMDB data with combined request\n",
    "    tmdb_url = f\"https://api.themoviedb.org/3/movie/{movie_id}?api_key={api_key}&append_to_response=keywords\"\n",
    "    \n",
    "    try:\n",
    "        # Single TMDB API call with connection pooling\n",
    "        with requests.Session() as session:\n",
    "            response = session.get(tmdb_url, timeout=10)\n",
    "            if response.status_code != 200:\n",
    "                return None\n",
    "            data = response.json()\n",
    "            \n",
    "            # Extract keywords and basic movie info\n",
    "            tmdb_keywords = [k[\"name\"] for k in data.get(\"keywords\", {}).get(\"keywords\", [])]\n",
    "            release_year = data.get('release_date', '')[:4] if data.get('release_date') else None\n",
    "\n",
    "    except requests.exceptions.RequestException as e:\n",
    "        print(f\"TMDB API Error: {str(e)}\")\n",
    "        return None\n",
    "\n",
    "    # Wikidata query using TMDB ID directly\n",
    "    sparql = SPARQLWrapper(\"https://query.wikidata.org/sparql\")\n",
    "    query = f\"\"\"\n",
    "    SELECT DISTINCT ?propertyLabel WHERE {{\n",
    "      ?film wdt:P4947 \"{movie_id}\";\n",
    "            (wdt:P136|wdt:P921) ?property.\n",
    "      SERVICE wikibase:label {{ bd:serviceParam wikibase:language \"en\". }}\n",
    "    }}\n",
    "    \"\"\"\n",
    "    \n",
    "    wikidata_props = []\n",
    "    max_retries = 3\n",
    "    for attempt in range(max_retries + 1):\n",
    "        try:\n",
    "            sparql.setQuery(query)\n",
    "            sparql.setReturnFormat(JSON)\n",
    "            results = sparql.query().convert()\n",
    "            wikidata_props = [result[\"propertyLabel\"][\"value\"] \n",
    "                            for result in results[\"results\"][\"bindings\"]]\n",
    "            break\n",
    "        except Exception as e:\n",
    "            if '429' in str(e) and attempt < max_retries:\n",
    "                time.sleep(1 + attempt)\n",
    "                continue\n",
    "            print(f\"Wikidata Error: {str(e)}\")\n",
    "            break\n",
    "\n",
    "    # Clean Wikidata keywords\n",
    "    def clean_keyword(kw: str) -> str:\n",
    "        # Remove standalone 'film' but preserve hyphenated terms\n",
    "        return ' '.join(\n",
    "            word for word in kw.split() \n",
    "            if word.lower() != 'film' and not (word == 'Film' and '-' not in kw)\n",
    "        ).strip()\n",
    "\n",
    "    wikidata_props = [clean_keyword(kw) for kw in wikidata_props]\n",
    "    wikidata_props = [kw for kw in wikidata_props if kw]  # Remove empty strings\n",
    "\n",
    "    # Merge and deduplicate (only use TMDB if Wikidata failed)\n",
    "    return list(set(tmdb_keywords + wikidata_props))\n"
   ]
  },
  {
   "cell_type": "code",
   "execution_count": 29,
   "metadata": {},
   "outputs": [],
   "source": [
    "keywords = get_combined_keywords(550)"
   ]
  },
  {
   "cell_type": "code",
   "execution_count": 30,
   "metadata": {},
   "outputs": [
    {
     "name": "stdout",
     "output_type": "stream",
     "text": [
      "['nihilism', 'self destructiveness', 'dissociative identity disorder', 'based on novel or book', 'based on a novel', 'dual identity', 'drama', 'breaking the fourth wall', 'flashback', 'alter ego', 'insomnia', 'support group', 'split personality', 'thriller', 'dystopia', 'fight', 'rage and hate', 'psychological thriller', 'quitting a job']\n"
     ]
    }
   ],
   "source": [
    "print(keywords)"
   ]
  },
  {
   "cell_type": "code",
   "execution_count": null,
   "metadata": {},
   "outputs": [],
   "source": []
  },
  {
   "cell_type": "code",
   "execution_count": null,
   "metadata": {},
   "outputs": [],
   "source": []
  },
  {
   "cell_type": "code",
   "execution_count": null,
   "metadata": {},
   "outputs": [],
   "source": []
  },
  {
   "cell_type": "code",
   "execution_count": null,
   "metadata": {},
   "outputs": [],
   "source": []
  },
  {
   "cell_type": "code",
   "execution_count": null,
   "metadata": {},
   "outputs": [],
   "source": []
  },
  {
   "cell_type": "code",
   "execution_count": null,
   "metadata": {},
   "outputs": [],
   "source": []
  },
  {
   "cell_type": "code",
   "execution_count": null,
   "metadata": {},
   "outputs": [],
   "source": []
  },
  {
   "cell_type": "code",
   "execution_count": 14,
   "metadata": {},
   "outputs": [],
   "source": [
    "# get_movie_credits(movie_id=603, session=None)"
   ]
  },
  {
   "cell_type": "code",
   "execution_count": 15,
   "metadata": {},
   "outputs": [],
   "source": [
    "# movies = search_movies(actor_id=6384)\n",
    "# print(movies)\n",
    "# for movie in movies:\n",
    "#     print(get_movie_data(movie_id=movie)[\"title\"])\n",
    "#     # print(get_movie_genre(movie, genre_id=True))\n",
    "#     # print(get_movie_credits(movie))\n",
    "#     # print(get_movie_keywords(movie))\n"
   ]
  },
  {
   "cell_type": "code",
   "execution_count": 16,
   "metadata": {},
   "outputs": [],
   "source": [
    "# print(get_movie_keywords(603))"
   ]
  },
  {
   "cell_type": "code",
   "execution_count": 17,
   "metadata": {},
   "outputs": [],
   "source": [
    "# genre_id_to_name([53, 28, 12, 878])"
   ]
  },
  {
   "cell_type": "code",
   "execution_count": 18,
   "metadata": {},
   "outputs": [
    {
     "ename": "NameError",
     "evalue": "name 'find_similar_movies_parallel' is not defined",
     "output_type": "error",
     "traceback": [
      "\u001b[31m---------------------------------------------------------------------------\u001b[39m",
      "\u001b[31mNameError\u001b[39m                                 Traceback (most recent call last)",
      "\u001b[36mCell\u001b[39m\u001b[36m \u001b[39m\u001b[32mIn[18]\u001b[39m\u001b[32m, line 1\u001b[39m\n\u001b[32m----> \u001b[39m\u001b[32m1\u001b[39m movies = \u001b[43mfind_similar_movies_parallel\u001b[49m([\u001b[32m603\u001b[39m, \u001b[32m1726\u001b[39m,\u001b[32m59967\u001b[39m])\n\u001b[32m      2\u001b[39m \u001b[38;5;66;03m# for movie in movies:\u001b[39;00m\n\u001b[32m      3\u001b[39m \u001b[38;5;66;03m#     print(get_movie_data(movie_id=movie)[\"title\"])\u001b[39;00m\n",
      "\u001b[31mNameError\u001b[39m: name 'find_similar_movies_parallel' is not defined"
     ]
    }
   ],
   "source": [
    "movies = find_similar_movies_parallel([603, 1726,59967])\n",
    "# for movie in movies:\n",
    "#     print(get_movie_data(movie_id=movie)[\"title\"])"
   ]
  },
  {
   "cell_type": "code",
   "execution_count": null,
   "metadata": {},
   "outputs": [],
   "source": [
    "# len(movies)"
   ]
  },
  {
   "cell_type": "code",
   "execution_count": null,
   "metadata": {},
   "outputs": [],
   "source": []
  }
 ],
 "metadata": {
  "kernelspec": {
   "display_name": "movienv",
   "language": "python",
   "name": "python3"
  },
  "language_info": {
   "codemirror_mode": {
    "name": "ipython",
    "version": 3
   },
   "file_extension": ".py",
   "mimetype": "text/x-python",
   "name": "python",
   "nbconvert_exporter": "python",
   "pygments_lexer": "ipython3",
   "version": "3.12.6"
  }
 },
 "nbformat": 4,
 "nbformat_minor": 2
}
